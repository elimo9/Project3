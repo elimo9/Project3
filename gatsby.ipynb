{
  "nbformat": 4,
  "nbformat_minor": 0,
  "metadata": {
    "colab": {
      "provenance": [],
      "authorship_tag": "ABX9TyNjvsgB8qIPdWDYqIZGqEx7",
      "include_colab_link": true
    },
    "kernelspec": {
      "name": "python3",
      "display_name": "Python 3"
    },
    "language_info": {
      "name": "python"
    }
  },
  "cells": [
    {
      "cell_type": "markdown",
      "metadata": {
        "id": "view-in-github",
        "colab_type": "text"
      },
      "source": [
        "<a href=\"https://colab.research.google.com/github/elimo9/Project3/blob/main/gatsby.ipynb\" target=\"_parent\"><img src=\"https://colab.research.google.com/assets/colab-badge.svg\" alt=\"Open In Colab\"/></a>"
      ]
    },
    {
      "cell_type": "code",
      "execution_count": 2,
      "metadata": {
        "colab": {
          "base_uri": "https://localhost:8080/"
        },
        "id": "KfyQnAf95VPG",
        "outputId": "6d01d73b-9fbe-4528-9845-5b8a92631b43"
      },
      "outputs": [
        {
          "output_type": "stream",
          "name": "stdout",
          "text": [
            "Gatsby is mentioned 271 times.\n",
            "Phrases related to Eckleburg are see 17 times.\n",
            "['jazz', 'Jazz', 'Jazz', 'Schwartz', 'Fitz', 'Gatz', 'Gatz', 'Gatz', 'Gatz', 'Gatz', 'waltz', 'jazz', 'Gatz', 'Gatz', 'Gatz', 'Gatz', 'Gatz', 'Gatz']\n"
          ]
        }
      ],
      "source": [
        "import urllib.request\n",
        "hand = urllib.request.urlopen('https://www.gutenberg.org/cache/epub/64317/pg64317-images.html')\n",
        "text = hand.read().decode()\n",
        "\n",
        "for line in hand:\n",
        "    line = line.decode().strip()\n",
        "\n",
        "count = text.lower().count(\"gatsby\")\n",
        "print(f\"Gatsby is mentioned {count} times.\")\n",
        "\n",
        "search_phrases = [\"stare\", \"The eyes of Doctor T.J. Eckleburg\"]\n",
        "total_count = 0\n",
        "for phrase in search_phrases:\n",
        "  total_count += text.lower().count(phrase.lower())\n",
        "print(f\"Phrases related to Eckleburg are see {total_count} times.\")\n",
        "\n",
        "import re\n",
        "pattern = r\"\\b\\w+z\\b\"\n",
        "words_ending_with_z = re.findall(pattern, text, re.IGNORECASE)\n",
        "print(words_ending_with_z)\n",
        "\n",
        "\n",
        "\n",
        "    #How many times is Gatsby mentioned?\n",
        "    #How many times was Eckleburg\"s stare mentioned?\n",
        "    #Words that end with the letter z."
      ]
    }
  ]
}